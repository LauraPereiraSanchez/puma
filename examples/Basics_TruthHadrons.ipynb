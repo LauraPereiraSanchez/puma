{
 "cells": [
  {
   "cell_type": "code",
   "execution_count": 2,
   "id": "f300a050-43ab-46b9-b513-f2a34bcca4e8",
   "metadata": {},
   "outputs": [],
   "source": [
    "# Script for vertex fits in Paper\n",
    "from puma.utils.truth_hadron import ProcessTruthHadrons, AssociateTracksToHadron, SelectHadronMostTracks\n",
    "\n",
    "#Plotting\n",
    "from ftag import Cuts, Flavour, Flavours\n",
    "import matplotlib.pyplot as plt\n",
    "from puma import Histogram, HistogramPlot\n",
    "\n",
    "#from puma.hlplots import AuxResults, Tagger\n",
    "import numpy as np\n"
   ]
  },
  {
   "cell_type": "code",
   "execution_count": 3,
   "id": "d20a39d2-8b6d-40a7-8aa1-097ad8be64dd",
   "metadata": {},
   "outputs": [],
   "source": [
    "# basic functions stored in billoir_preprocessing.py file (which is only available in the JAX branch)\n",
    "from ftag.hdf5 import H5Reader \n",
    "import h5py\n",
    "\n",
    "\n",
    "def ListVariables(file_path):\n",
    "    with h5py.File(file_path, \"r\") as f:\n",
    "        print(f.keys())\n",
    "        for k in list(f.keys()):\n",
    "            print(k)\n",
    "            print(f[k].dtype.fields.keys())\n",
    "\n",
    "    return\n",
    "\n",
    "\n",
    "\n",
    "track_var = [\"d0\", \"z0SinTheta\", \"dphi\", \"d0Uncertainty\", \"z0SinThetaUncertainty\", \"phiUncertainty\", \"thetaUncertainty\", \"qOverPUncertainty\", \"qOverP\", \"deta\", \"theta\", \"dphi\"] # for vertex fit\n",
    "track_var += [\"d0RelativeToBeamspot\", \"d0RelativeToBeamspotUncertainty\",\"z0RelativeToBeamspot\", \"z0RelativeToBeamspotUncertainty\",  \"ftagTruthOriginLabel\",  \"GN2v01_aux_TrackOrigin\", \"GN2v01_aux_VertexIndex\",  \"ftagTruthVertexIndex\", \"ftagTruthParentBarcode\"]\n",
    "track_var += [\"JFVertexIndex\", \"pt\"]\n",
    "\n",
    "jet_var = [\"eventNumber\",\"GN2v01_pb\", \"GN2v01_pc\", \"GN2v01_pu\", \"n_tracks\", \"jetPtRank\", \"phi\", \"eta\", \"HadronConeExclTruthLabelID\", \"HadronConeExclExtendedTruthLabelID\", \"HadronConeExclTruthLabelPdgId\", \"HadronConeExclTruthLabelLxy\", \"SV1_Lxy\", \"JetFitterSecondaryVertex_displacement2d\", \"SV1_L3d\", \"JetFitterSecondaryVertex_displacement3d\", \"JetFitter_nVTX\", \"mcEventWeight\", \"nPrimaryVertices\"] # phi is needed for vertex fit if track phi is not available # v00 instead of v01\n",
    "\n",
    "jet_var +=['primaryVertexToBeamDisplacementX', 'primaryVertexToBeamDisplacementY', 'primaryVertexToBeamDisplacementZ', 'primaryVertexToTruthVertexDisplacementX', 'primaryVertexToTruthVertexDisplacementY', 'primaryVertexToTruthVertexDisplacementZ', 'truthPrimaryVertexX', 'truthPrimaryVertexY', 'truthPrimaryVertexZ', 'primaryVertexDetectorZ']\n",
    "jet_var += ['JetFitterSecondaryVertex_nTracks', 'JetFitter_nTracksAtVtx', 'SV1_masssvx', 'JetFitter_mass', 'JetFitterSecondaryVertex_mass']\n",
    "truth_hadrons = ['pt', 'mass', 'energy', 'eta', 'phi', 'deta', 'dphi', 'dr', 'displacementX', 'displacementY', 'displacementZ','Lxy', 'charge', 'flavour', 'pdgId', 'barcode', 'ftagTruthParentBarcode', 'valid',  'decayVertexDPhi', 'decayVertexDEta'] \n",
    "\n"
   ]
  },
  {
   "cell_type": "code",
   "execution_count": 4,
   "id": "e7cd211c-1266-43e6-9d89-2ceb50eb531c",
   "metadata": {},
   "outputs": [],
   "source": [
    "sample = \"ttbar\"\n",
    "mc = \"MC23a\"\n",
    "directory = \"/fs/ddn/sdf/group/atlas/d/lapereir/GN2/OpenDataset_final/\"\n",
    "output = \"PaperPlots/\"\n",
    "\n",
    "n_jets = 1000#200000 \n",
    "n_tracks = 40\n",
    "\n",
    "\n",
    "path=directory+\"/\"+mc+\"_\"+\"new-\"+sample+\".h5\"\n",
    "\n",
    "if sample == \"ttbar\":\n",
    "    sample_str = \"$t\\\\overline{t}$\"\n",
    "    cuts = [\n",
    "        (\"pt\", \">=\", 20000),\n",
    "        (\"pt\", \"<=\", 250000),\n",
    "        (\"eta\", \">\", -2.5),\n",
    "        (\"eta\", \"<\", 2.5),\n",
    "        (\"HadronConeExclTruthLabelID\", \">=\", 4), \n",
    "        (\"HadronConeExclTruthLabelID\", \"<=\", 5),\n",
    "        (\"n_truth_promptLepton\", \"==\", 0)\n",
    "    ]\n",
    "    cut_str = \"20 < $p_T$ < 250 GeV, $|\\\\eta| < 2.5$\"\n",
    "        \n",
    "elif sample == \"zprime\":\n",
    "    sample_str = \"Z'\"\n",
    "    cuts = [\n",
    "        (\"pt\", \">=\", 250000),\n",
    "        (\"pt\", \"<=\", 6000000),\n",
    "        (\"eta\", \">\", -2.5),\n",
    "        (\"eta\", \"<\", 2.5),\n",
    "        (\"HadronConeExclTruthLabelID\", \">=\", 4), \n",
    "        (\"HadronConeExclTruthLabelID\", \"<=\", 5),\n",
    "        (\"n_truth_promptLepton\", \"==\", 0)\n",
    "    ]\n",
    "    cut_str = \"250 < $p_T$ < 6000 GeV, $|\\\\eta| < 2.5$\"\n"
   ]
  },
  {
   "cell_type": "code",
   "execution_count": 5,
   "id": "46c7d079-00e9-4948-9729-5dd027cb058f",
   "metadata": {},
   "outputs": [
    {
     "name": "stdout",
     "output_type": "stream",
     "text": [
      "<KeysViewHDF5 ['ConeExclFinalLabels', 'jets', 'tracks', 'truth_hadrons']>\n",
      "ConeExclFinalLabels\n",
      "dict_keys(['charge', 'flavour', 'pdgId', 'barcode', 'ftagTruthParentBarcode', 'pt', 'mass', 'energy', 'eta', 'phi', 'deta', 'dphi', 'dr', 'displacementX', 'displacementY', 'displacementZ', 'Lxy', 'decayVertexDPhi', 'decayVertexDEta', 'valid'])\n",
      "jets\n",
      "dict_keys(['GN2v01_pb', 'GN2v01_pc', 'GN2v01_pu', 'GN2v01_ptau', 'SV1_correctSignificance3d', 'softMuon_pt', 'softMuon_dR', 'softMuon_eta', 'softMuon_phi', 'softMuon_qOverPratio', 'softMuon_momentumBalanceSignificance', 'softMuon_scatteringNeighbourSignificance', 'softMuon_pTrel', 'softMuon_ip3dD0', 'softMuon_ip3dZ0', 'softMuon_ip3dD0Significance', 'softMuon_ip3dZ0Significance', 'softMuon_ip3dD0Uncertainty', 'softMuon_ip3dZ0Uncertainty', 'JetFitterFlip_energyFraction', 'JetFitterFlip_mass', 'JetFitterFlip_significance3d', 'JetFitterFlip_deltaphi', 'JetFitterFlip_deltaeta', 'JetFitterFlip_massUncorr', 'JetFitterFlip_dRFlightDir', 'pt_btagJes', 'eta_btagJes', 'absEta_btagJes', 'scalarSumTrackPt', 'JetFitter_energyFraction', 'JetFitter_mass', 'JetFitter_significance3d', 'JetFitter_deltaphi', 'JetFitter_deltaeta', 'JetFitter_massUncorr', 'JetFitter_dRFlightDir', 'SV1_masssvx', 'SV1_efracsvx', 'SV1_significance3d', 'SV1_dstToMatLay', 'SV1_deltaR', 'SV1_Lxy', 'SV1_L3d', 'JetFitter_deltaR', 'JetFitterSecondaryVertex_displacement3d', 'JetFitterSecondaryVertex_displacement2d', 'JetFitterSecondaryVertex_mass', 'JetFitterSecondaryVertex_energy', 'JetFitterSecondaryVertex_energyFraction', 'JetFitterSecondaryVertex_minimumTrackRelativeEta', 'JetFitterSecondaryVertex_maximumTrackRelativeEta', 'JetFitterSecondaryVertex_averageTrackRelativeEta', 'JetFitterSecondaryVertex_maximumAllJetTrackRelativeEta', 'JetFitterSecondaryVertex_minimumAllJetTrackRelativeEta', 'JetFitterSecondaryVertex_averageAllJetTrackRelativeEta', 'DL1r20210824r22_pb', 'DL1r20210824r22_pc', 'DL1r20210824r22_pu', 'dipsLoose20220314v2_pb', 'dipsLoose20220314v2_pc', 'dipsLoose20220314v2_pu', 'DL1dv01_pu', 'DL1dv01_pc', 'DL1dv01_pb', 'JetFitterFlip_nVTX', 'JetFitterFlip_nSingleTracks', 'JetFitterFlip_nTracksAtVtx', 'JetFitterFlip_N2Tpair', 'IP3D_nTrks', 'JetFitter_nVTX', 'JetFitter_nSingleTracks', 'JetFitter_nTracksAtVtx', 'JetFitter_N2Tpair', 'SV1_N2Tpair', 'SV1_NGTinSvx', 'JetFitterSecondaryVertex_nTracks', 'softMuon_isDefaults', 'rnnip_isDefaults', 'JetFitter_isDefaults', 'SV1_isDefaults', 'JetFitterSecondaryVertex_isDefaults', 'pt', 'eta', 'energy', 'mass', 'HadronConeExclTruthLabelPt', 'HadronConeExclTruthLabelLxy', 'HadronConeExclTruthLabelDR', 'HadronConeExclTruthLabelChildPt', 'HadronConeExclTruthLabelChildLxy', 'HadronGhostTruthLabelPt', 'HadronGhostTruthLabelLxy', 'HadronGhostTruthLabelDR', 'HadronGhostTruthLabelChildPt', 'HadronGhostTruthLabelChildLxy', 'PartonTruthLabelPt', 'PartonTruthLabelDR', 'GhostBHadronsFinalPt', 'NNJvt', 'phi', 'isJvtPU', 'isJvtHS', 'jetFoldHash', 'jetFoldHash_noHits', 'n_tracks', 'HadronConeExclTruthLabelPdgId', 'HadronConeExclTruthLabelChildPdgId', 'LeptonDecayLabel', 'n_truth_promptLepton', 'TauDecayLabel', 'HadronGhostTruthLabelID', 'HadronGhostExtendedTruthLabelID', 'HadronGhostTruthLabelPdgId', 'HadronGhostTruthLabelChildPdgId', 'GhostBHadronsFinalCount', 'GhostCHadronsFinalCount', 'HadronConeExclTruthLabelID', 'HadronConeExclExtendedTruthLabelID', 'PartonTruthLabelID', 'jetPtRank', 'primaryVertexToBeamDisplacementX', 'primaryVertexToBeamDisplacementY', 'primaryVertexToBeamDisplacementZ', 'primaryVertexToTruthVertexDisplacementX', 'primaryVertexToTruthVertexDisplacementY', 'primaryVertexToTruthVertexDisplacementZ', 'truthPrimaryVertexX', 'truthPrimaryVertexY', 'truthPrimaryVertexZ', 'primaryVertexDetectorZ', 'mcEventWeight', 'eventNumber', 'averageInteractionsPerCrossing', 'actualInteractionsPerCrossing', 'nPrimaryVertices', 'isRun3'])\n",
      "tracks\n",
      "dict_keys(['numberOfInnermostPixelLayerHits', 'numberOfNextToInnermostPixelLayerHits', 'numberOfInnermostPixelLayerSharedHits', 'numberOfInnermostPixelLayerSplitHits', 'numberOfPixelHits', 'numberOfPixelSharedHits', 'numberOfPixelSplitHits', 'numberOfSCTHits', 'numberOfSCTSharedHits', 'GN2v01_aux_TrackOrigin', 'GN2v01_aux_VertexIndex', 'leptonID', 'ftagTruthParentBarcode', 'ftagTruthOriginLabel', 'ftagTruthTypeLabel', 'ftagTruthSourceLabel', 'ftagTruthVertexIndex', 'SV1VertexIndex', 'JFVertexIndex', 'AMVFWeightPV', 'theta', 'qOverP', 'd0RelativeToBeamspot', 'd0RelativeToBeamspotUncertainty', 'pt', 'ptfrac', 'deta', 'z0RelativeToBeamspot', 'qOverPUncertainty', 'd0', 'z0SinTheta', 'd0Uncertainty', 'z0SinThetaUncertainty', 'phiUncertainty', 'thetaUncertainty', 'dphi', 'z0RelativeToBeamspotUncertainty', 'IP3D_signed_d0', 'IP3D_signed_z0', 'IP3D_signed_d0_significance', 'IP3D_signed_z0_significance', 'valid'])\n",
      "truth_hadrons\n",
      "dict_keys(['charge', 'flavour', 'pdgId', 'barcode', 'ftagTruthParentBarcode', 'pt', 'mass', 'energy', 'eta', 'phi', 'deta', 'dphi', 'dr', 'displacementX', 'displacementY', 'displacementZ', 'Lxy', 'decayVertexDPhi', 'decayVertexDEta', 'valid'])\n"
     ]
    }
   ],
   "source": [
    "# Explore available variables\n",
    "ListVariables(path)\n",
    "#print(path)\n",
    "\n",
    "# Read dataset\n",
    "my_reader = H5Reader(path, precision=\"full\", shuffle=False, batch_size=100)\n",
    "if n_jets == -1:\n",
    "    dataset = my_reader.load({\"jets\": jet_var, \"tracks\" : track_var, \"truth_hadrons\" : truth_hadrons},  cuts=Cuts.from_list(cuts))\n",
    "else:\n",
    "    dataset = my_reader.load({\"jets\": jet_var, \"tracks\" : track_var, \"truth_hadrons\" : truth_hadrons}, num_jets=n_jets, cuts=Cuts.from_list(cuts))\n"
   ]
  },
  {
   "cell_type": "code",
   "execution_count": 15,
   "id": "17bd90b6-120a-472c-ab08-f1004d57ebc7",
   "metadata": {},
   "outputs": [
    {
     "name": "stdout",
     "output_type": "stream",
     "text": [
      "Max number of truth hadrons in your sample:  5\n",
      "Total number of jets =  1000\n",
      " -- Number of jets multiple unrelated hadrons =  24\n",
      " -- Number of jets with only 1 SV =  170\n",
      " -- Number of jets with a decay chain =  806\n",
      "   --> # jets with 2 SVs: =  591\n",
      "   --> # jets with 3+ SVs: =  215\n",
      "   --> # jets with 4+ SVs: =  10\n",
      "976  good jets (= the jets with more than one unrelated hadron and light jets with no truth hadrons have been dropped )\n"
     ]
    }
   ],
   "source": [
    "#  1) Process Truth Hadron Information (good jets have a clear truth hadron in them)\n",
    "drop_unrelated_hadrons = True\n",
    "good_jets, hadron_indices, parent, child, one_hadron, unrelated = ProcessTruthHadrons(dataset, dataset[\"jets\"].shape[0])\n",
    "\n",
    "# keep only good jets for the remaining studies\n",
    "jets = dataset[\"jets\"][good_jets]\n",
    "tracks = dataset[\"tracks\"][good_jets]\n",
    "truth_hadrons = dataset[\"truth_hadrons\"][good_jets]\n",
    "\n",
    "#  2) Find index for labeling hadron i.e. parent if there are several truth hadrons\n",
    "index_lead_hadron = hadron_indices[good_jets][:,0] # hadron indices are  already ordered such that position 0 is the labeling hadron.\n",
    "\n",
    "# 3) Associate Tracks to Hadron and find index of hadron with most associated tracks\n",
    "#   ---> index_hadron_most_tracks is the index of the hadron with most tracks. A dummy -99 shows up for jets where all truth hadrons have 0 associated tracks.\n",
    "#   ---> inclusive_track_vertex is Truth Inclusive SV finding i.e. 1 for tracks from the inclusive SV, 0 otherwise. Shape (n_good_jets, max_n_tracks)\n",
    "#   ---> exclusive_track_vertex is Truth Exclusive SV finding i.e. 1 for tracks from the inclusive SV, 0 otherwise Shape (n_good_jets, n_truth_hadrons, max_n_tracks)\n",
    "\n",
    "inclusive_track_vertex, exclusive_track_vertex, index_hadron_most_tracks, n_tracks_inclusive_vertex, n_tracks_exclusive_vertex, vertex_track_mask, good_jet_mask, good_hadron_track_association_mask = AssociateTracksToHadron(dataset, good_jets, drop_bad_jets=True)\n",
    "\n",
    "\n",
    "# Hadron with most tracks - keep both the hadron variables and the Truth Track to Hadron Association\n",
    "truth_hadron_most_tracks = SelectHadronMostTracks(truth_hadrons, index_hadron_most_tracks) # you can use it to access truth mass\n",
    "tracks_from_hadron_most_tracks = SelectHadronMostTracks(exclusive_track_vertex, index_hadron_most_tracks) # Array with booleans (1 indicates track is associated to the vertex)\n",
    "\n",
    "# Labeling hadron - keep both the hadron variables and the Truth Track to Hadron Association\n",
    "labeling_truth_hadron = truth_hadrons[np.arange(truth_hadrons.shape[0]),np.array(index_lead_hadron).astype(int)] # you can use it to access truth mass\n",
    "tracks_from_labeling_truth_hadron = np.array(exclusive_track_vertex[np.arange(exclusive_track_vertex.shape[0]),np.array(index_lead_hadron).astype(int)]) # Array with booleans (1 indicates track is associated to the vertex)\n"
   ]
  },
  {
   "cell_type": "code",
   "execution_count": 34,
   "id": "76b759ae-9fbb-461a-81ea-ceab96b93e91",
   "metadata": {},
   "outputs": [
    {
     "name": "stdout",
     "output_type": "stream",
     "text": [
      "(976, 40)\n",
      "[[3.77777855 3.77777855 3.77777855 ... 3.77777855 3.77777855 3.77777855]\n",
      " [1.87502385 1.87502385 1.89048614 ... 1.89048614 1.89048614 1.89048614]\n",
      " [1.96393378 1.96393378 1.96393378 ... 1.96393378 1.96393378 1.96393378]\n",
      " ...\n",
      " [1.62535152 0.13957    1.62535152 ... 0.13957    0.13957    0.13957   ]\n",
      " [1.59803788 1.59803788 0.64777811 ... 0.64777811 0.64777811 0.64777811]\n",
      " [3.64894851 3.64894851 3.64894851 ... 3.64894851 3.64894851 3.64894851]]\n",
      "There seems to be an issue with the outgoing calculated mass vertex, it is not the same for each item!\n",
      "(16592,)\n",
      "I am using the first index instead, but they should all be unique!\n"
     ]
    },
    {
     "name": "stderr",
     "output_type": "stream",
     "text": [
      "\u001b[33;21mWARNING:puma: Histogram values contain 73 nan values!\u001b[0m\n"
     ]
    },
    {
     "name": "stdout",
     "output_type": "stream",
     "text": [
      "(976,)\n"
     ]
    },
    {
     "name": "stderr",
     "output_type": "stream",
     "text": [
      "/sdf/data/atlas/u/lapereir/FTAG/puma/puma/histogram.py:773: RuntimeWarning: invalid value encountered in subtract\n",
      "  y1=np.nan_to_num(ratio - ratio_unc, nan=0, posinf=0),\n",
      "/sdf/data/atlas/u/lapereir/FTAG/puma/puma/histogram.py:773: RuntimeWarning: invalid value encountered in subtract\n",
      "  y1=np.nan_to_num(ratio - ratio_unc, nan=0, posinf=0),\n",
      "/sdf/data/atlas/u/lapereir/FTAG/puma/puma/histogram.py:773: RuntimeWarning: invalid value encountered in subtract\n",
      "  y1=np.nan_to_num(ratio - ratio_unc, nan=0, posinf=0),\n"
     ]
    },
    {
     "data": {
      "image/png": "[encoded data removed]",
      "text/plain": [
       "<Figure size 640x480 with 1 Axes>"
      ]
     },
     "metadata": {},
     "output_type": "display_data"
    }
   ],
   "source": [
    "# Mass\n",
    "\n",
    "# Truth Hadron Mass\n",
    "###########################################################\n",
    "mass_labeling_truth_hadron = labeling_truth_hadron[\"mass\"]/1000\n",
    "mass_truth_hadron_most_tracks = truth_hadron_most_tracks[\"mass\"]/1000\n",
    "###########################################################\n",
    "\n",
    "\n",
    "# Calculate Vertex Mass from Track to Hadron Association\n",
    "###########################################################\n",
    "from puma.utils.mass import calculate_vertex_mass\n",
    "\n",
    "# track Eta\n",
    "jet_eta = np.repeat(jets[\"eta\"], n_tracks).reshape(jets.shape[0], n_tracks) # This is needed because jets have a different format than tracks\n",
    "track_eta = jet_eta + tracks[\"deta\"] # this is not fully correct\n",
    "\n",
    "\n",
    "print(tracks_from_labeling_truth_hadron.shape)\n",
    "# Calculate vertex mass\n",
    "mass_labeling_vertex = calculate_vertex_mass(tracks[\"pt\"]/1000, track_eta, tracks[\"dphi\"], tracks_from_labeling_truth_hadron)\n",
    "print(mass_labeling_vertex)\n",
    "\n",
    "print(\"There seems to be an issue with the outgoing calculated mass vertex, it is not the same for each item!\")\n",
    "tmp_mass = np.unique(mass_labeling_vertex, axis=1).flatten()\n",
    "print(tmp_mass.shape) \n",
    "\n",
    "print(\"I am using the first index instead, but they should all be unique!\")\n",
    "\n",
    "#mass_labeling_vertex = np.unique(mass_labeling_vertex, axis=1).flatten()\n",
    "mass_labeling_vertex = mass_labeling_vertex[:, 0]\n",
    "\n",
    "mass_vertex_most_tracks = calculate_vertex_mass(tracks[\"pt\"]/1000, track_eta,  tracks[\"dphi\"], tracks_from_hadron_most_tracks)\n",
    "#mass_vertex_most_tracks =np.unique(mass_vertex_most_tracks, axis=1).flatten()\n",
    "mass_vertex_most_tracks = mass_vertex_most_tracks[:, 0]\n",
    "\n",
    "###########################################################\n",
    "\n",
    "\n",
    "print(mass_labeling_vertex.shape)\n",
    "\n",
    "hist_label_mass =  Histogram(mass_labeling_truth_hadron[jets[\"HadronConeExclTruthLabelID\"] == 5], label=\"Labeling Hadron\", histtype=\"step\", alpha=1)\n",
    "hist_most_tracks_mass =  Histogram(mass_truth_hadron_most_tracks[jets[\"HadronConeExclTruthLabelID\"] == 5], label=\"Hadron with Most Tracks\", histtype=\"step\", alpha=1)\n",
    "\n",
    "hist_label_vertex_mass =  Histogram(mass_labeling_vertex[jets[\"HadronConeExclTruthLabelID\"] == 5], label=\"Labeling Vertex\", histtype=\"step\", alpha=1)\n",
    "hist_most_tracks_vertex_mass =  Histogram(mass_vertex_most_tracks[jets[\"HadronConeExclTruthLabelID\"] == 5], label=\"Most Tracks Vertex\", histtype=\"step\", alpha=1)\n",
    "\n",
    "JetFitter_hist = Histogram(jets[\"JetFitterSecondaryVertex_mass\"][jets[\"HadronConeExclTruthLabelID\"] == 5]/1000,label=\"JetFitter SV\", histtype=\"step\", alpha=1) \n",
    "\n",
    "com = \"13\" if \"MC20\" in mc else \"13.6\"\n",
    "plot_histo = HistogramPlot(\n",
    "    ylabel=\"Events\",\n",
    "    xlabel=\"m$_{SV}$ [GeV]\",\n",
    "    logy=False,\n",
    "    # bins=np.linspace(0, 5, 60),  # you can force a binning for the plot here\n",
    "    bins=40,  # you can also define an integer number for the number of bins\n",
    "    bins_range=(0,8),  # only considered if bins is an integer\n",
    "    norm=False,\n",
    "    atlas_first_tag=\"Simulation Internal\",\n",
    "    atlas_second_tag=\"\",\n",
    "    figsize=(6, 5),\n",
    "    y_scale=1.7,\n",
    "    n_ratio_panels=1,\n",
    ")\n",
    "    \n",
    "# Truth\n",
    "\n",
    "#plot_histo.add(hist_label_mass, reference=False)\n",
    "#plot_histo.add(hist_most_tracks_mass, reference=False)\n",
    "\n",
    "# Reco from truth SV finding\n",
    "plot_histo.add(hist_label_vertex_mass, reference=False)\n",
    "plot_histo.add(hist_most_tracks_vertex_mass, reference=True)\n",
    "\n",
    "# Reco from truth algorithms\n",
    "\n",
    "plot_histo.add(JetFitter_hist, reference = False)\n",
    "\n",
    "plot_histo.draw()\n",
    "\n",
    "plot_histo.savefig(\"./Paper_Histogram_Mass.png\", transparent=False)\n"
   ]
  },
  {
   "cell_type": "code",
   "execution_count": 35,
   "id": "0af31524-afcb-438e-b073-f780dbca4a08",
   "metadata": {},
   "outputs": [],
   "source": [
    "# Calculate Lxy\n",
    "\n",
    "Lxy_labeling_truth_hadron = np.sqrt(labeling_truth_hadron[\"displacementX\"]**2, labeling_truth_hadron[\"displacementY\"]**2)\n",
    "\n",
    "Lxy_truth_hadron_most_tracks = np.sqrt(truth_hadron_most_tracks[\"displacementX\"]**2, truth_hadron_most_tracks[\"displacementY\"]**2)\n",
    "\n"
   ]
  },
  {
   "cell_type": "code",
   "execution_count": null,
   "id": "e6ca05c9-308d-4f2b-9d0c-d033fefc82b4",
   "metadata": {},
   "outputs": [],
   "source": []
  }
 ],
 "metadata": {
  "kernelspec": {
   "display_name": "Python 3 (ipykernel)",
   "language": "python",
   "name": "python3"
  },
  "language_info": {
   "codemirror_mode": {
    "name": "ipython",
    "version": 3
   },
   "file_extension": ".py",
   "mimetype": "text/x-python",
   "name": "python",
   "nbconvert_exporter": "python",
   "pygments_lexer": "ipython3",
   "version": "3.8.15"
  }
 },
 "nbformat": 4,
 "nbformat_minor": 5
}
